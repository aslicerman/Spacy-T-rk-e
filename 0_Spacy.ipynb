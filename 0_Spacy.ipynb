{
 "cells": [
  {
   "cell_type": "code",
   "execution_count": 21,
   "id": "b4b5cec3",
   "metadata": {},
   "outputs": [],
   "source": [
    "import pandas as pd\n",
    "import numpy as np\n",
    "import re\n",
    "\n",
    "#conda install -c conda-forge spacy==2.3.1\n",
    "#pip install spacy[lookups]\n",
    "#kernel restart\n",
    "\n",
    "import spacy\n",
    "from spacy.lang.tr import Turkish\n",
    "nlp = Turkish()\n",
    "\n",
    "import requests\n",
    "from bs4 import BeautifulSoup"
   ]
  },
  {
   "cell_type": "markdown",
   "id": "73b819b2",
   "metadata": {},
   "source": [
    "### Beautifulsoup Wikipedia Parsing"
   ]
  },
  {
   "cell_type": "code",
   "execution_count": 22,
   "id": "47482c01",
   "metadata": {},
   "outputs": [],
   "source": [
    "#Veri Bilimi Vikipedi sayfasını getiriyoruz\n",
    "veri_bilimi = requests.get('https://tr.wikipedia.org/wiki/Veri_bilimi').content\n",
    "veri_madenciliği = requests.get('https://tr.wikipedia.org/wiki/Veri_madenciliği').content\n",
    "\n",
    "#BeautifulSoup ile html sayfasını parse ediyoruz.\n",
    "vb_soup = BeautifulSoup( veri_bilimi,'html.parser' )\n",
    "vd_soup = BeautifulSoup( veri_madenciliği,'html.parser' )\n",
    "\n",
    "# HTML tag'lerinden arındırılmış şekilde sayfanın sadece ilk paragrafını geiriyoruz\n",
    "VB_first_sentence = vb_soup.find_all('p')[1].get_text()\n",
    "VM_first_sentence = vd_soup.find_all('p')[1].get_text()"
   ]
  },
  {
   "cell_type": "code",
   "execution_count": 23,
   "id": "8972b376",
   "metadata": {},
   "outputs": [
    {
     "name": "stdout",
     "output_type": "stream",
     "text": [
      "Veri bilimi, yapılandırılmış ve yapılandırılmamış verilerden bilgi ve öngörü elde etmek için bilimsel yöntemleri, süreçleri, algoritmaları ve sistemleri kullanan çok disiplinli bir alandır.[1] Veri bilimi veri madenciliği ve büyük verilerle ilişkilidir.\n",
      "\n",
      "Veri madenciliği, büyük ölçekli veriler arasından faydalı bilgiye ulaşma, bilgiyi madenleme işidir. Büyük veri yığınları içerisinden gelecekle ilgili tahminde bulunabilmemizi sağlayabilecek bağıntıların bilgisayar programı kullanarak aranması olarak da tanımlanabilir.[1][2]\n",
      "\n"
     ]
    }
   ],
   "source": [
    "print(VB_first_sentence)\n",
    "print(VM_first_sentence)"
   ]
  },
  {
   "cell_type": "code",
   "execution_count": 24,
   "id": "9938d2e7",
   "metadata": {},
   "outputs": [],
   "source": [
    "def cleaning_text(text):\n",
    "    text_nopunct = re.sub(r'[^\\w\\s]','', str(text).lower())\n",
    "    text_nonumbers =re.sub('[0-9]+', '', str(text_nopunct))\n",
    "    return text_nonumbers"
   ]
  },
  {
   "cell_type": "code",
   "execution_count": 25,
   "id": "c4b277da",
   "metadata": {},
   "outputs": [],
   "source": [
    "VB =cleaning_text(VB_first_sentence)\n",
    "VM =cleaning_text(VM_first_sentence)"
   ]
  },
  {
   "cell_type": "code",
   "execution_count": 26,
   "id": "9116fbf4",
   "metadata": {},
   "outputs": [
    {
     "name": "stdout",
     "output_type": "stream",
     "text": [
      "veri bilimi yapılandırılmış ve yapılandırılmamış verilerden bilgi ve öngörü elde etmek için bilimsel yöntemleri süreçleri algoritmaları ve sistemleri kullanan çok disiplinli bir alandır veri bilimi veri madenciliği ve büyük verilerle ilişkilidir\n",
      "\n",
      "veri madenciliği büyük ölçekli veriler arasından faydalı bilgiye ulaşma bilgiyi madenleme işidir büyük veri yığınları içerisinden gelecekle ilgili tahminde bulunabilmemizi sağlayabilecek bağıntıların bilgisayar programı kullanarak aranması olarak da tanımlanabilir\n",
      "\n"
     ]
    }
   ],
   "source": [
    "print(VB)\n",
    "print(VM)"
   ]
  },
  {
   "cell_type": "markdown",
   "id": "dc4b5952",
   "metadata": {},
   "source": [
    "# Spacy Tokenization"
   ]
  },
  {
   "cell_type": "markdown",
   "id": "2cfd68ce",
   "metadata": {},
   "source": [
    "### Word Tokenization"
   ]
  },
  {
   "cell_type": "code",
   "execution_count": 27,
   "id": "0b2a7c46",
   "metadata": {},
   "outputs": [],
   "source": [
    "#\"nlp\" Object is used to create documents with linguistic annotations.\n",
    "nlp_VB = nlp(VB)\n",
    "nlp_VM = nlp(VM)"
   ]
  },
  {
   "cell_type": "code",
   "execution_count": 28,
   "id": "8ef450a4",
   "metadata": {},
   "outputs": [],
   "source": [
    "def tokenization(nlp_doc):\n",
    "    token_list = []\n",
    "    for token in nlp_doc:\n",
    "        token_list.append(token.text)\n",
    "    return token_list"
   ]
  },
  {
   "cell_type": "code",
   "execution_count": 29,
   "id": "ac09088d",
   "metadata": {},
   "outputs": [
    {
     "name": "stdout",
     "output_type": "stream",
     "text": [
      "['veri', 'bilimi', 'yapılandırılmış', 've', 'yapılandırılmamış', 'verilerden', 'bilgi', 've', 'öngörü', 'elde', 'etmek', 'için', 'bilimsel', 'yöntemleri', 'süreçleri', 'algoritmaları', 've', 'sistemleri', 'kullanan', 'çok', 'disiplinli', 'bir', 'alandır', 'veri', 'bilimi', 'veri', 'madenciliği', 've', 'büyük', 'verilerle', 'ilişkilidir', '\\n']\n"
     ]
    }
   ],
   "source": [
    "nlp_VB = tokenization(nlp_VB)\n",
    "print(nlp_VB)"
   ]
  },
  {
   "cell_type": "code",
   "execution_count": 30,
   "id": "c1ab7c1c",
   "metadata": {},
   "outputs": [
    {
     "name": "stdout",
     "output_type": "stream",
     "text": [
      "['veri', 'madenciliği', 'büyük', 'ölçekli', 'veriler', 'arasından', 'faydalı', 'bilgiye', 'ulaşma', 'bilgiyi', 'madenleme', 'işidir', 'büyük', 'veri', 'yığınları', 'içerisinden', 'gelecekle', 'ilgili', 'tahminde', 'bulunabilmemizi', 'sağlayabilecek', 'bağıntıların', 'bilgisayar', 'programı', 'kullanarak', 'aranması', 'olarak', 'da', 'tanımlanabilir', '\\n']\n"
     ]
    }
   ],
   "source": [
    "nlp_VM = tokenization(nlp_VM)\n",
    "print(nlp_VM)"
   ]
  },
  {
   "cell_type": "markdown",
   "id": "77f13928",
   "metadata": {},
   "source": [
    "### Sentence Tokenization"
   ]
  },
  {
   "cell_type": "code",
   "execution_count": 31,
   "id": "966ae602",
   "metadata": {},
   "outputs": [],
   "source": [
    "text = \"\"\" Veri bilimi, yapılandırılmış ve yapılandırılmamış verilerden bilgi ve öngörü elde etmek için bilimsel yöntemleri, süreçleri, algoritmaları ve sistemleri kullanan çok disiplinli bir alandır. \n",
    "Veri bilimi veri madenciliği ve büyük verilerle ilişkilidir.\n",
    "\"\"\""
   ]
  },
  {
   "cell_type": "code",
   "execution_count": 32,
   "id": "ac68d8c9",
   "metadata": {},
   "outputs": [
    {
     "name": "stdout",
     "output_type": "stream",
     "text": [
      "[' Veri bilimi, yapılandırılmış ve yapılandırılmamış verilerden bilgi ve öngörü elde etmek için bilimsel yöntemleri, süreçleri, algoritmaları ve sistemleri kullanan çok disiplinli bir alandır.', '\\nVeri bilimi veri madenciliği ve büyük verilerle ilişkilidir.', '\\n']\n"
     ]
    }
   ],
   "source": [
    "# Create the pipeline 'sentencizer' component\n",
    "sentencizer = nlp.create_pipe('sentencizer')\n",
    "\n",
    "# Add the component to the pipeline\n",
    "nlp.add_pipe(sentencizer)\n",
    "\n",
    "#  \"nlp\" Object is used to create documents with linguistic annotations.\n",
    "nlp_doc = nlp(text)\n",
    "\n",
    "# create list of sentence tokens\n",
    "sents_list = []\n",
    "for sent in nlp_doc.sents:\n",
    "    sents_list.append(sent.text)\n",
    "print(sents_list)\n"
   ]
  },
  {
   "cell_type": "markdown",
   "id": "ebb66520",
   "metadata": {},
   "source": [
    "# Spacy Stop Words"
   ]
  },
  {
   "cell_type": "code",
   "execution_count": 35,
   "id": "93eeb5c2",
   "metadata": {},
   "outputs": [
    {
     "name": "stdout",
     "output_type": "stream",
     "text": [
      "Number of stop words: 551\n",
      "First 10 stop words: ['çokluk', 'nere', 'neyse', 'sahiden', 'birlikte', 'ait', 'enikonu', 'emme', 'gene', 'olduğu', 'derken', 'zarfında', 'az', 'tüm', 'ama', 'çabuk', 'yenilerde', 'başkası', 'kimse', 'oluyor']\n"
     ]
    }
   ],
   "source": [
    "#importing stop words from English language.\n",
    "import spacy\n",
    "spacy_stopwords = spacy.lang.tr.stop_words.STOP_WORDS\n",
    "\n",
    "#Printing the total number of stop words:\n",
    "print('Number of stop words: %d' % len(spacy_stopwords))\n",
    "\n",
    "#Printing first ten stop words:\n",
    "print('First 10 stop words: %s' % list(spacy_stopwords)[:20])"
   ]
  },
  {
   "cell_type": "code",
   "execution_count": 36,
   "id": "9573c589",
   "metadata": {},
   "outputs": [
    {
     "name": "stdout",
     "output_type": "stream",
     "text": [
      "Filtered Sentence: [ , veri, bilimi, yapılandırılmış, yapılandırılmamış, verilerden, bilgi, öngörü, elde, etmek, bilimsel, yöntemleri, süreçleri, algoritmaları, sistemleri, kullanan, disiplinli, bir, alandır, \n",
      ", veri, bilimi, veri, madenciliği, büyük, verilerle, ilişkilidir, \n",
      "]\n"
     ]
    }
   ],
   "source": [
    "doc1 = vb_soup.find_all('p')[1].get_text()\n",
    "text = cleaning_text(text)\n",
    "\n",
    "from spacy.lang.en.stop_words import STOP_WORDS\n",
    "\n",
    "\n",
    "filtered_sent=[]\n",
    "\n",
    "#  \"nlp\" Object is used to create documents with linguistic annotations.\n",
    "doc = nlp(text)\n",
    "\n",
    "# filtering stop words\n",
    "for word in doc:\n",
    "    if word.is_stop==False:\n",
    "        filtered_sent.append(word)\n",
    "print(\"Filtered Sentence:\",filtered_sent)"
   ]
  },
  {
   "cell_type": "code",
   "execution_count": 37,
   "id": "4a613b3e",
   "metadata": {},
   "outputs": [
    {
     "data": {
      "text/plain": [
       "'Veri bilimi, yapılandırılmış ve yapılandırılmamış verilerden bilgi ve öngörü elde etmek için bilimsel yöntemleri, süreçleri, algoritmaları ve sistemleri kullanan çok disiplinli bir alandır.[1] Veri bilimi veri madenciliği ve büyük verilerle ilişkilidir.\\n'"
      ]
     },
     "execution_count": 37,
     "metadata": {},
     "output_type": "execute_result"
    }
   ],
   "source": [
    "doc1"
   ]
  },
  {
   "cell_type": "markdown",
   "id": "7552a2ff",
   "metadata": {},
   "source": [
    "# Spacy Lemmatization"
   ]
  },
  {
   "cell_type": "code",
   "execution_count": 41,
   "id": "c46b1004",
   "metadata": {},
   "outputs": [
    {
     "name": "stdout",
     "output_type": "stream",
     "text": [
      "   \n",
      "veri veri\n",
      "bilimi bilim\n",
      "yapılandırılmış yapı\n",
      "ve ve\n",
      "yapılandırılmamış yapı\n",
      "verilerden veri\n",
      "bilgi bilgi\n",
      "ve ve\n",
      "öngörü öngörü\n",
      "elde el\n",
      "etmek et\n",
      "için için\n",
      "bilimsel bilimsel\n",
      "yöntemleri yöntem\n",
      "süreçleri süreç\n",
      "algoritmaları algoritma\n",
      "ve ve\n",
      "sistemleri sistem\n",
      "kullanan kullan\n",
      "çok çok\n",
      "disiplinli disiplin\n",
      "bir bir\n",
      "alandır al\n",
      "\n",
      " \n",
      "\n",
      "veri veri\n",
      "bilimi bilim\n",
      "veri veri\n",
      "madenciliği madencilik\n",
      "ve ve\n",
      "büyük büyük\n",
      "verilerle veri\n",
      "ilişkilidir ilişki\n",
      "\n",
      " \n",
      "\n"
     ]
    }
   ],
   "source": [
    "doc1 = vb_soup.find_all('p')[1].get_text()\n",
    "text = cleaning_text(text)\n",
    "\n",
    "# Implementing lemmatization\n",
    "lem = nlp(text)\n",
    "# finding lemma for each word\n",
    "for word in lem:\n",
    "    print(word.text,word.lemma_)"
   ]
  }
 ],
 "metadata": {
  "kernelspec": {
   "display_name": "Python 3",
   "language": "python",
   "name": "python3"
  },
  "language_info": {
   "codemirror_mode": {
    "name": "ipython",
    "version": 3
   },
   "file_extension": ".py",
   "mimetype": "text/x-python",
   "name": "python",
   "nbconvert_exporter": "python",
   "pygments_lexer": "ipython3",
   "version": "3.7.4"
  }
 },
 "nbformat": 4,
 "nbformat_minor": 5
}
